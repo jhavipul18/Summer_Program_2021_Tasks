{
 "cells": [
  {
   "cell_type": "code",
   "execution_count": 1,
   "metadata": {},
   "outputs": [],
   "source": [
    "#Collage Of Images"
   ]
  },
  {
   "cell_type": "code",
   "execution_count": 22,
   "metadata": {},
   "outputs": [],
   "source": [
    "import numpy,cv2,pyttsx3\n",
    "\n",
    "engine = pyttsx3.init()\n",
    "engine.say('This block of code will collage  two images')\n",
    "engine.runAndWait()\n",
    "photo1=cv2.imread('kratos2.jpeg')\n",
    "photo2=cv2.imread('eivor3.jpeg')\n",
    "cv2.imshow('eivor',photo2)\n",
    "cv2.imshow('kratos',photo1)\n",
    "cv2.waitKey(10000)\n",
    "cv2.destroyAllWindows()\n",
    "photo2=cv2.resize(photo2,(500,500))\n",
    "horizontal=numpy.hstack([photo1,photo2])\n",
    "cv2.imshow(\"Final Collage\",horizontal)\n",
    "cv2.waitKey(10000)\n",
    "cv2.destroyAllWindows()\n"
   ]
  },
  {
   "cell_type": "code",
   "execution_count": null,
   "metadata": {},
   "outputs": [],
   "source": []
  },
  {
   "cell_type": "code",
   "execution_count": null,
   "metadata": {},
   "outputs": [],
   "source": []
  }
 ],
 "metadata": {
  "kernelspec": {
   "display_name": "Python 3",
   "language": "python",
   "name": "python3"
  },
  "language_info": {
   "codemirror_mode": {
    "name": "ipython",
    "version": 3
   },
   "file_extension": ".py",
   "mimetype": "text/x-python",
   "name": "python",
   "nbconvert_exporter": "python",
   "pygments_lexer": "ipython3",
   "version": "3.7.4"
  }
 },
 "nbformat": 4,
 "nbformat_minor": 2
}
