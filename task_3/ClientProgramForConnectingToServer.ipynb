{
 "cells": [
  {
   "cell_type": "code",
   "execution_count": 1,
   "metadata": {
    "scrolled": false
   },
   "outputs": [],
   "source": [
    "import socket\n",
    "import threading\n",
    "import cv2\n",
    "import numpy\n",
    "serverip=\"192.168.208.143\"\n",
    "serverport=2222\n",
    "s=socket.socket()\n",
    "s.connect((serverip,serverport))\n",
    "\n",
    "s.send(b\"i am from socket1\")\n",
    "\n",
    "cap=cv2.VideoCapture(1)\n",
    "address=\"https://192.168.208.167:8080/video\"\n",
    "cap.open(address)\n",
    "def sender():\n",
    "    while True:\n",
    "        ret,photo=cap.read()\n",
    "        photo = cv2.resize(photo, (500,500))\n",
    "        if ret:\n",
    "            s.send(numpy.ndarray.tobytes(photo))\n",
    "        else:\n",
    "            print(\"Could not Send\")\n",
    "            cap.release()\n",
    "def recv():\n",
    "    while True:\n",
    "        data=s.recv(10000000000)\n",
    "        if(data == b'finished'): \n",
    "            print(\"Finished\")\n",
    "            cap.release()\n",
    "            cv2.destroyAllWindows()\n",
    "        photo=numpy.frombuffer(data,dtype=numpy.uint8)\n",
    "        #print(len(photo))\n",
    "        if len(photo)==500*500*3:\n",
    "            cv2.imshow('From Client', photo.reshape(500,500,3))\n",
    "            if cv2.waitKey(11)==13:\n",
    "                csession.send(b\"finished\")\n",
    "                cap.release()\n",
    "                cv2.destroyAllWindows()\n",
    "                break\n",
    "t1=threading.Thread(target=recv)\n",
    "t1.start()\n",
    "t2=threading.Thread(target=sender)\n",
    "t2.start()   \n",
    "\n",
    "\n",
    "    "
   ]
  },
  {
   "cell_type": "code",
   "execution_count": null,
   "metadata": {},
   "outputs": [],
   "source": [
    "cap.release()"
   ]
  },
  {
   "cell_type": "code",
   "execution_count": null,
   "metadata": {},
   "outputs": [],
   "source": []
  }
 ],
 "metadata": {
  "kernelspec": {
   "display_name": "Python 3",
   "language": "python",
   "name": "python3"
  },
  "language_info": {
   "codemirror_mode": {
    "name": "ipython",
    "version": 3
   },
   "file_extension": ".py",
   "mimetype": "text/x-python",
   "name": "python",
   "nbconvert_exporter": "python",
   "pygments_lexer": "ipython3",
   "version": "3.7.4"
  }
 },
 "nbformat": 4,
 "nbformat_minor": 4
}
