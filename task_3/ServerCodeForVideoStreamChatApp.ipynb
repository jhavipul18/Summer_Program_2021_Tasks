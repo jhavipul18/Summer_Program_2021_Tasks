{
 "cells": [
  {
   "cell_type": "code",
   "execution_count": 1,
   "metadata": {
    "scrolled": true
   },
   "outputs": [],
   "source": [
    "import socket\n",
    "import threading\n",
    "import cv2\n",
    "import numpy\n",
    "s=socket.socket()\n",
    "s.setsockopt(socket.SOL_SOCKET,socket.SO_REUSEADDR,1)\n",
    "ip=\"\"\n",
    "port=2222\n",
    "s.bind((ip,port))\n",
    "s.listen()\n",
    "csession,addr=s.accept()\n",
    "cap=cv2.VideoCapture(0)\n",
    "def sender():\n",
    "    while True:\n",
    "        ret,photo=cap.read()\n",
    "        photo = cv2.resize(photo, (500,500))\n",
    "        if ret:\n",
    "            csession.send(numpy.ndarray.tobytes(photo))\n",
    "        else:\n",
    "            print(\"Could not Send\")\n",
    "def recv():\n",
    "    while True:\n",
    "        data=csession.recv(10000000000)\n",
    "        if(data == b'finished'): \n",
    "            print(\"Finished\")\n",
    "            cap.release()\n",
    "            cv2.destroyAllWindows()\n",
    "            csession.close()\n",
    "        photo=numpy.frombuffer(data,dtype=numpy.uint8)\n",
    "        #print(len(photo))        \n",
    "        if len(photo)==500*500*3:\n",
    "            cv2.imshow('From Server',photo.reshape(500,500,3))\n",
    "            if cv2.waitKey(1)==13:\n",
    "                csession.send(b\"finished\")\n",
    "                cap.release()\n",
    "                cv2.destroyAllWindows()\n",
    "                break\n",
    "t1=threading.Thread(target=sender)\n",
    "t1.start()\n",
    "t2=threading.Thread(target=recv)\n",
    "t2.start()        \n",
    "            \n",
    "    "
   ]
  },
  {
   "cell_type": "code",
   "execution_count": null,
   "metadata": {},
   "outputs": [],
   "source": []
  },
  {
   "cell_type": "code",
   "execution_count": null,
   "metadata": {},
   "outputs": [],
   "source": []
  }
 ],
 "metadata": {
  "kernelspec": {
   "display_name": "Python 3",
   "language": "python",
   "name": "python3"
  },
  "language_info": {
   "codemirror_mode": {
    "name": "ipython",
    "version": 3
   },
   "file_extension": ".py",
   "mimetype": "text/x-python",
   "name": "python",
   "nbconvert_exporter": "python",
   "pygments_lexer": "ipython3",
   "version": "3.7.4"
  }
 },
 "nbformat": 4,
 "nbformat_minor": 4
}
