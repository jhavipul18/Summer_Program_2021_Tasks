{
 "cells": [
  {
   "cell_type": "code",
   "execution_count": 8,
   "metadata": {},
   "outputs": [],
   "source": [
    "import numpy,cv2,pyttsx3\n",
    "\n",
    "engine = pyttsx3.init()\n",
    "engine.say('This block of code will swapp image')\n",
    "engine.runAndWait()\n",
    "\n",
    "photo1=cv2.imread('kratos2.jpeg')\n",
    "photo2=cv2.imread('eivor3.jpeg')\n",
    "cv2.imshow('eivor',photo2)\n",
    "cv2.imshow('kratos',photo1)\n",
    "cv2.waitKey(10000)\n",
    "cv2.destroyAllWindows()\n",
    "photo1_crop=photo1[32:274,140:382].copy()\n",
    "photo2_crop=photo2[12:254,140:382].copy()\n",
    "photo1[32:274,140:382]=photo2_crop\n",
    "photo2[12:254,140:382]=photo1_crop\n",
    "cv2.imshow('him',photo2)\n",
    "cv2.imshow('hi',photo1)\n",
    "cv2.waitKey(10000)\n",
    "cv2.destroyAllWindows()"
   ]
  },
  {
   "cell_type": "code",
   "execution_count": null,
   "metadata": {},
   "outputs": [],
   "source": []
  }
 ],
 "metadata": {
  "kernelspec": {
   "display_name": "Python 3",
   "language": "python",
   "name": "python3"
  },
  "language_info": {
   "codemirror_mode": {
    "name": "ipython",
    "version": 3
   },
   "file_extension": ".py",
   "mimetype": "text/x-python",
   "name": "python",
   "nbconvert_exporter": "python",
   "pygments_lexer": "ipython3",
   "version": "3.7.4"
  }
 },
 "nbformat": 4,
 "nbformat_minor": 2
}
